{
 "cells": [
  {
   "cell_type": "code",
   "execution_count": 1,
   "metadata": {},
   "outputs": [],
   "source": [
    "#import dependencies\n",
    "import pandas as pd;\n"
   ]
  },
  {
   "cell_type": "code",
   "execution_count": 2,
   "metadata": {},
   "outputs": [],
   "source": [
    "#read in files\n",
    "Raw_files = ['JC-202206-citibike-tripdata.csv','JC-202207-citbike-tripdata.csv','JC-202208-citibike-tripdata.csv','JC-202209-citibike-tripdata.csv','JC-202210-citibike-tripdata.csv','JC-202211-citibike-tripdata.csv','JC-202212-citibike-tripdata.csv','JC-202301-citibike-tripdata.csv','JC-202302-citibike-tripdata.csv','JC-202303-citibike-tripdata.csv','JC-202304-citibike-tripdata.csv','JC-202305-citibike-tripdata.csv']"
   ]
  },
  {
   "cell_type": "code",
   "execution_count": 3,
   "metadata": {},
   "outputs": [],
   "source": [
    "#read in files and append them \n",
    "data_file = []\n",
    "for each in Raw_files:\n",
    "    file = pd.read_csv(each)\n",
    "    data_file.append(file)"
   ]
  },
  {
   "cell_type": "code",
   "execution_count": 4,
   "metadata": {},
   "outputs": [
    {
     "name": "stdout",
     "output_type": "stream",
     "text": [
      "12\n"
     ]
    }
   ],
   "source": [
    "print(len(data_file))"
   ]
  },
  {
   "cell_type": "code",
   "execution_count": 5,
   "metadata": {},
   "outputs": [],
   "source": [
    "df = pd.concat(data_file)"
   ]
  },
  {
   "cell_type": "code",
   "execution_count": 6,
   "metadata": {},
   "outputs": [
    {
     "data": {
      "text/html": [
       "<div>\n",
       "<style scoped>\n",
       "    .dataframe tbody tr th:only-of-type {\n",
       "        vertical-align: middle;\n",
       "    }\n",
       "\n",
       "    .dataframe tbody tr th {\n",
       "        vertical-align: top;\n",
       "    }\n",
       "\n",
       "    .dataframe thead th {\n",
       "        text-align: right;\n",
       "    }\n",
       "</style>\n",
       "<table border=\"1\" class=\"dataframe\">\n",
       "  <thead>\n",
       "    <tr style=\"text-align: right;\">\n",
       "      <th></th>\n",
       "      <th>ride_id</th>\n",
       "      <th>rideable_type</th>\n",
       "      <th>started_at</th>\n",
       "      <th>ended_at</th>\n",
       "      <th>start_station_name</th>\n",
       "      <th>start_station_id</th>\n",
       "      <th>end_station_name</th>\n",
       "      <th>end_station_id</th>\n",
       "      <th>start_lat</th>\n",
       "      <th>start_lng</th>\n",
       "      <th>end_lat</th>\n",
       "      <th>end_lng</th>\n",
       "      <th>member_casual</th>\n",
       "    </tr>\n",
       "  </thead>\n",
       "  <tbody>\n",
       "    <tr>\n",
       "      <th>0</th>\n",
       "      <td>EEA3CD3B084370F4</td>\n",
       "      <td>classic_bike</td>\n",
       "      <td>2022-06-30 19:17:16</td>\n",
       "      <td>2022-06-30 19:27:13</td>\n",
       "      <td>Clinton St &amp; Newark St</td>\n",
       "      <td>HB409</td>\n",
       "      <td>Grand St &amp; 14 St</td>\n",
       "      <td>HB506</td>\n",
       "      <td>40.737430</td>\n",
       "      <td>-74.035710</td>\n",
       "      <td>40.754090</td>\n",
       "      <td>-74.031600</td>\n",
       "      <td>casual</td>\n",
       "    </tr>\n",
       "    <tr>\n",
       "      <th>1</th>\n",
       "      <td>BF568C9B3C5FAE94</td>\n",
       "      <td>classic_bike</td>\n",
       "      <td>2022-06-02 12:46:44</td>\n",
       "      <td>2022-06-02 15:08:33</td>\n",
       "      <td>Clinton St &amp; Newark St</td>\n",
       "      <td>HB409</td>\n",
       "      <td>Grand St &amp; 14 St</td>\n",
       "      <td>HB506</td>\n",
       "      <td>40.737430</td>\n",
       "      <td>-74.035710</td>\n",
       "      <td>40.754090</td>\n",
       "      <td>-74.031600</td>\n",
       "      <td>casual</td>\n",
       "    </tr>\n",
       "    <tr>\n",
       "      <th>2</th>\n",
       "      <td>DF6B06D460481A7E</td>\n",
       "      <td>classic_bike</td>\n",
       "      <td>2022-06-05 14:17:34</td>\n",
       "      <td>2022-06-05 14:27:12</td>\n",
       "      <td>Clinton St &amp; Newark St</td>\n",
       "      <td>HB409</td>\n",
       "      <td>Grand St &amp; 14 St</td>\n",
       "      <td>HB506</td>\n",
       "      <td>40.737430</td>\n",
       "      <td>-74.035710</td>\n",
       "      <td>40.754090</td>\n",
       "      <td>-74.031600</td>\n",
       "      <td>casual</td>\n",
       "    </tr>\n",
       "    <tr>\n",
       "      <th>3</th>\n",
       "      <td>A26CDB92CDF7E0EE</td>\n",
       "      <td>electric_bike</td>\n",
       "      <td>2022-06-01 18:57:12</td>\n",
       "      <td>2022-06-01 19:05:58</td>\n",
       "      <td>Clinton St &amp; Newark St</td>\n",
       "      <td>HB409</td>\n",
       "      <td>Pershing Field</td>\n",
       "      <td>JC024</td>\n",
       "      <td>40.737430</td>\n",
       "      <td>-74.035710</td>\n",
       "      <td>40.742677</td>\n",
       "      <td>-74.051789</td>\n",
       "      <td>member</td>\n",
       "    </tr>\n",
       "    <tr>\n",
       "      <th>4</th>\n",
       "      <td>A2A50E81031E9E7F</td>\n",
       "      <td>electric_bike</td>\n",
       "      <td>2022-06-14 22:45:53</td>\n",
       "      <td>2022-06-14 22:49:39</td>\n",
       "      <td>Oakland Ave</td>\n",
       "      <td>JC022</td>\n",
       "      <td>Pershing Field</td>\n",
       "      <td>JC024</td>\n",
       "      <td>40.737604</td>\n",
       "      <td>-74.052478</td>\n",
       "      <td>40.742677</td>\n",
       "      <td>-74.051789</td>\n",
       "      <td>member</td>\n",
       "    </tr>\n",
       "  </tbody>\n",
       "</table>\n",
       "</div>"
      ],
      "text/plain": [
       "            ride_id  rideable_type           started_at             ended_at  \\\n",
       "0  EEA3CD3B084370F4   classic_bike  2022-06-30 19:17:16  2022-06-30 19:27:13   \n",
       "1  BF568C9B3C5FAE94   classic_bike  2022-06-02 12:46:44  2022-06-02 15:08:33   \n",
       "2  DF6B06D460481A7E   classic_bike  2022-06-05 14:17:34  2022-06-05 14:27:12   \n",
       "3  A26CDB92CDF7E0EE  electric_bike  2022-06-01 18:57:12  2022-06-01 19:05:58   \n",
       "4  A2A50E81031E9E7F  electric_bike  2022-06-14 22:45:53  2022-06-14 22:49:39   \n",
       "\n",
       "       start_station_name start_station_id  end_station_name end_station_id  \\\n",
       "0  Clinton St & Newark St            HB409  Grand St & 14 St          HB506   \n",
       "1  Clinton St & Newark St            HB409  Grand St & 14 St          HB506   \n",
       "2  Clinton St & Newark St            HB409  Grand St & 14 St          HB506   \n",
       "3  Clinton St & Newark St            HB409    Pershing Field          JC024   \n",
       "4             Oakland Ave            JC022    Pershing Field          JC024   \n",
       "\n",
       "   start_lat  start_lng    end_lat    end_lng member_casual  \n",
       "0  40.737430 -74.035710  40.754090 -74.031600        casual  \n",
       "1  40.737430 -74.035710  40.754090 -74.031600        casual  \n",
       "2  40.737430 -74.035710  40.754090 -74.031600        casual  \n",
       "3  40.737430 -74.035710  40.742677 -74.051789        member  \n",
       "4  40.737604 -74.052478  40.742677 -74.051789        member  "
      ]
     },
     "execution_count": 6,
     "metadata": {},
     "output_type": "execute_result"
    }
   ],
   "source": [
    "df.head()"
   ]
  },
  {
   "cell_type": "code",
   "execution_count": 7,
   "metadata": {},
   "outputs": [
    {
     "data": {
      "text/plain": [
       "Index(['ride_id', 'rideable_type', 'started_at', 'ended_at',\n",
       "       'start_station_name', 'start_station_id', 'end_station_name',\n",
       "       'end_station_id', 'start_lat', 'start_lng', 'end_lat', 'end_lng',\n",
       "       'member_casual'],\n",
       "      dtype='object')"
      ]
     },
     "execution_count": 7,
     "metadata": {},
     "output_type": "execute_result"
    }
   ],
   "source": [
    "df.keys()"
   ]
  },
  {
   "cell_type": "code",
   "execution_count": 8,
   "metadata": {},
   "outputs": [
    {
     "data": {
      "text/plain": [
       "ride_id                object\n",
       "rideable_type          object\n",
       "started_at             object\n",
       "ended_at               object\n",
       "start_station_name     object\n",
       "start_station_id       object\n",
       "end_station_name       object\n",
       "end_station_id         object\n",
       "start_lat             float64\n",
       "start_lng             float64\n",
       "end_lat               float64\n",
       "end_lng               float64\n",
       "member_casual          object\n",
       "dtype: object"
      ]
     },
     "execution_count": 8,
     "metadata": {},
     "output_type": "execute_result"
    }
   ],
   "source": [
    "#check datatype\n",
    "df.dtypes"
   ]
  },
  {
   "cell_type": "code",
   "execution_count": 9,
   "metadata": {},
   "outputs": [],
   "source": [
    "#convert to datetime format from object\n",
    "df['ended_at'] = pd.to_datetime(df['ended_at'], errors='coerce')\n",
    "df['started_at'] = pd.to_datetime(df['started_at'], errors='coerce')\n"
   ]
  },
  {
   "cell_type": "code",
   "execution_count": 10,
   "metadata": {},
   "outputs": [],
   "source": [
    "#get trip duration\n",
    "df['Trip Duration'] = (df['ended_at'] - df['started_at']).dt.total_seconds() / 60"
   ]
  },
  {
   "cell_type": "code",
   "execution_count": 11,
   "metadata": {},
   "outputs": [
    {
     "data": {
      "text/plain": [
       "ride_id                       object\n",
       "rideable_type                 object\n",
       "started_at            datetime64[ns]\n",
       "ended_at              datetime64[ns]\n",
       "start_station_name            object\n",
       "start_station_id              object\n",
       "end_station_name              object\n",
       "end_station_id                object\n",
       "start_lat                    float64\n",
       "start_lng                    float64\n",
       "end_lat                      float64\n",
       "end_lng                      float64\n",
       "member_casual                 object\n",
       "Trip Duration                float64\n",
       "dtype: object"
      ]
     },
     "execution_count": 11,
     "metadata": {},
     "output_type": "execute_result"
    }
   ],
   "source": [
    "# check data type\n",
    "df.dtypes"
   ]
  },
  {
   "cell_type": "code",
   "execution_count": 12,
   "metadata": {},
   "outputs": [],
   "source": [
    "df = df[['ride_id', 'rideable_type', 'started_at', 'ended_at','Trip Duration',\n",
    "       'start_station_name', 'start_station_id', 'end_station_name',\n",
    "       'end_station_id', 'start_lat', 'start_lng', 'end_lat', 'end_lng',\n",
    "       'member_casual']]"
   ]
  },
  {
   "cell_type": "code",
   "execution_count": 13,
   "metadata": {},
   "outputs": [
    {
     "data": {
      "text/html": [
       "<div>\n",
       "<style scoped>\n",
       "    .dataframe tbody tr th:only-of-type {\n",
       "        vertical-align: middle;\n",
       "    }\n",
       "\n",
       "    .dataframe tbody tr th {\n",
       "        vertical-align: top;\n",
       "    }\n",
       "\n",
       "    .dataframe thead th {\n",
       "        text-align: right;\n",
       "    }\n",
       "</style>\n",
       "<table border=\"1\" class=\"dataframe\">\n",
       "  <thead>\n",
       "    <tr style=\"text-align: right;\">\n",
       "      <th></th>\n",
       "      <th>ride_id</th>\n",
       "      <th>rideable_type</th>\n",
       "      <th>started_at</th>\n",
       "      <th>ended_at</th>\n",
       "      <th>Trip Duration</th>\n",
       "      <th>start_station_name</th>\n",
       "      <th>start_station_id</th>\n",
       "      <th>end_station_name</th>\n",
       "      <th>end_station_id</th>\n",
       "      <th>start_lat</th>\n",
       "      <th>start_lng</th>\n",
       "      <th>end_lat</th>\n",
       "      <th>end_lng</th>\n",
       "      <th>member_casual</th>\n",
       "    </tr>\n",
       "  </thead>\n",
       "  <tbody>\n",
       "    <tr>\n",
       "      <th>0</th>\n",
       "      <td>EEA3CD3B084370F4</td>\n",
       "      <td>classic_bike</td>\n",
       "      <td>2022-06-30 19:17:16</td>\n",
       "      <td>2022-06-30 19:27:13</td>\n",
       "      <td>9.950000</td>\n",
       "      <td>Clinton St &amp; Newark St</td>\n",
       "      <td>HB409</td>\n",
       "      <td>Grand St &amp; 14 St</td>\n",
       "      <td>HB506</td>\n",
       "      <td>40.737430</td>\n",
       "      <td>-74.035710</td>\n",
       "      <td>40.754090</td>\n",
       "      <td>-74.031600</td>\n",
       "      <td>casual</td>\n",
       "    </tr>\n",
       "    <tr>\n",
       "      <th>1</th>\n",
       "      <td>BF568C9B3C5FAE94</td>\n",
       "      <td>classic_bike</td>\n",
       "      <td>2022-06-02 12:46:44</td>\n",
       "      <td>2022-06-02 15:08:33</td>\n",
       "      <td>141.816667</td>\n",
       "      <td>Clinton St &amp; Newark St</td>\n",
       "      <td>HB409</td>\n",
       "      <td>Grand St &amp; 14 St</td>\n",
       "      <td>HB506</td>\n",
       "      <td>40.737430</td>\n",
       "      <td>-74.035710</td>\n",
       "      <td>40.754090</td>\n",
       "      <td>-74.031600</td>\n",
       "      <td>casual</td>\n",
       "    </tr>\n",
       "    <tr>\n",
       "      <th>2</th>\n",
       "      <td>DF6B06D460481A7E</td>\n",
       "      <td>classic_bike</td>\n",
       "      <td>2022-06-05 14:17:34</td>\n",
       "      <td>2022-06-05 14:27:12</td>\n",
       "      <td>9.633333</td>\n",
       "      <td>Clinton St &amp; Newark St</td>\n",
       "      <td>HB409</td>\n",
       "      <td>Grand St &amp; 14 St</td>\n",
       "      <td>HB506</td>\n",
       "      <td>40.737430</td>\n",
       "      <td>-74.035710</td>\n",
       "      <td>40.754090</td>\n",
       "      <td>-74.031600</td>\n",
       "      <td>casual</td>\n",
       "    </tr>\n",
       "    <tr>\n",
       "      <th>3</th>\n",
       "      <td>A26CDB92CDF7E0EE</td>\n",
       "      <td>electric_bike</td>\n",
       "      <td>2022-06-01 18:57:12</td>\n",
       "      <td>2022-06-01 19:05:58</td>\n",
       "      <td>8.766667</td>\n",
       "      <td>Clinton St &amp; Newark St</td>\n",
       "      <td>HB409</td>\n",
       "      <td>Pershing Field</td>\n",
       "      <td>JC024</td>\n",
       "      <td>40.737430</td>\n",
       "      <td>-74.035710</td>\n",
       "      <td>40.742677</td>\n",
       "      <td>-74.051789</td>\n",
       "      <td>member</td>\n",
       "    </tr>\n",
       "    <tr>\n",
       "      <th>4</th>\n",
       "      <td>A2A50E81031E9E7F</td>\n",
       "      <td>electric_bike</td>\n",
       "      <td>2022-06-14 22:45:53</td>\n",
       "      <td>2022-06-14 22:49:39</td>\n",
       "      <td>3.766667</td>\n",
       "      <td>Oakland Ave</td>\n",
       "      <td>JC022</td>\n",
       "      <td>Pershing Field</td>\n",
       "      <td>JC024</td>\n",
       "      <td>40.737604</td>\n",
       "      <td>-74.052478</td>\n",
       "      <td>40.742677</td>\n",
       "      <td>-74.051789</td>\n",
       "      <td>member</td>\n",
       "    </tr>\n",
       "  </tbody>\n",
       "</table>\n",
       "</div>"
      ],
      "text/plain": [
       "            ride_id  rideable_type          started_at            ended_at  \\\n",
       "0  EEA3CD3B084370F4   classic_bike 2022-06-30 19:17:16 2022-06-30 19:27:13   \n",
       "1  BF568C9B3C5FAE94   classic_bike 2022-06-02 12:46:44 2022-06-02 15:08:33   \n",
       "2  DF6B06D460481A7E   classic_bike 2022-06-05 14:17:34 2022-06-05 14:27:12   \n",
       "3  A26CDB92CDF7E0EE  electric_bike 2022-06-01 18:57:12 2022-06-01 19:05:58   \n",
       "4  A2A50E81031E9E7F  electric_bike 2022-06-14 22:45:53 2022-06-14 22:49:39   \n",
       "\n",
       "   Trip Duration      start_station_name start_station_id  end_station_name  \\\n",
       "0       9.950000  Clinton St & Newark St            HB409  Grand St & 14 St   \n",
       "1     141.816667  Clinton St & Newark St            HB409  Grand St & 14 St   \n",
       "2       9.633333  Clinton St & Newark St            HB409  Grand St & 14 St   \n",
       "3       8.766667  Clinton St & Newark St            HB409    Pershing Field   \n",
       "4       3.766667             Oakland Ave            JC022    Pershing Field   \n",
       "\n",
       "  end_station_id  start_lat  start_lng    end_lat    end_lng member_casual  \n",
       "0          HB506  40.737430 -74.035710  40.754090 -74.031600        casual  \n",
       "1          HB506  40.737430 -74.035710  40.754090 -74.031600        casual  \n",
       "2          HB506  40.737430 -74.035710  40.754090 -74.031600        casual  \n",
       "3          JC024  40.737430 -74.035710  40.742677 -74.051789        member  \n",
       "4          JC024  40.737604 -74.052478  40.742677 -74.051789        member  "
      ]
     },
     "execution_count": 13,
     "metadata": {},
     "output_type": "execute_result"
    }
   ],
   "source": [
    "df.head()"
   ]
  },
  {
   "cell_type": "code",
   "execution_count": 14,
   "metadata": {},
   "outputs": [],
   "source": [
    "df.to_csv('Citibike Data.csv',index= False)"
   ]
  }
 ],
 "metadata": {
  "kernelspec": {
   "display_name": "base",
   "language": "python",
   "name": "python3"
  },
  "language_info": {
   "codemirror_mode": {
    "name": "ipython",
    "version": 3
   },
   "file_extension": ".py",
   "mimetype": "text/x-python",
   "name": "python",
   "nbconvert_exporter": "python",
   "pygments_lexer": "ipython3",
   "version": "3.10.9"
  },
  "orig_nbformat": 4
 },
 "nbformat": 4,
 "nbformat_minor": 2
}
